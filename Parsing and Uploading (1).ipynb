{
 "cells": [
  {
   "cell_type": "code",
   "execution_count": null,
   "id": "7552d29d",
   "metadata": {},
   "outputs": [],
   "source": [
    "%pip install edgartools llama-parse pywebcopy nest_asyncio huggingface_hub"
   ]
  },
  {
   "cell_type": "code",
   "execution_count": null,
   "id": "fdc29932",
   "metadata": {},
   "outputs": [],
   "source": [
    "%pip install lxml_html_clean\n",
    "import nest_asyncio; nest_asyncio.apply()\n",
    "import os\n",
    "from edgar import Company, set_identity\n",
    "from pywebcopy import save_webpage\n",
    "from llama_parse import LlamaParse\n",
    "\n",
    "# Set SEC identity\n",
    "# Put your name and email address \n",
    "set_identity(\"Your Name Youremail@example.com\")\n",
    "\n",
    "# Define the output directory\n",
    "output_dir = \"./data\"\n",
    "\n",
    "# Fetch the latest 10-Q filing for AAPL\n",
    "# Change it according to whatever reports you want \n",
    "# This example is for Apple's 10-Q (quarterly) reports\n",
    "# More options can be seen on docs of edgartools\n",
    "filings = Company(\"AAPL\").get_filings(form=\"10-Q\").latest(1)\n",
    "document_url = filings.document.url\n",
    "\n",
    "# Save the webpage\n",
    "save_webpage(\n",
    "    url=document_url,\n",
    "    project_folder=output_dir,\n",
    "    open_in_browser=False\n",
    ")\n",
    "\n",
    "# File Search\n",
    "file_extension = \".html\"\n",
    "html_file_path = None\n",
    "for root, dirs, files in os.walk(output_dir):\n",
    "    for file in files:\n",
    "        if file.endswith(file_extension):\n",
    "            html_file_path = os.path.join(root, file)\n",
    "            break\n",
    "    if html_file_path:\n",
    "        break\n",
    "\n",
    "if html_file_path:\n",
    "    print(f\"Found file: {html_file_path}\")\n",
    "\n",
    "    # Initialize LlamaParse\n",
    "    # Please enter Llama-Parse access key generated from Llama-Index website\n",
    "    parser = LlamaParse(\n",
    "        api_key=\"llx-.\",\n",
    "        result_type=\"markdown\",  # or \"text\"\n",
    "        verbose=True,\n",
    "    )\n",
    "\n",
    "    # Please enter filename (along with .txt) for the parsed file\n",
    "    output_filename = input(\"Enter the filename for the parsed content (e.g., 'parsed_filing.txt'): \")\n",
    "\n",
    "    try:\n",
    "        documents = parser.load_data(html_file_path)\n",
    "        # Save the parsed content to the file\n",
    "        output_file_path = os.path.join(output_dir, output_filename)\n",
    "        with open(output_file_path, 'w', encoding='utf-8') as output_file:\n",
    "            for doc in documents:\n",
    "                output_file.write(doc.text)\n",
    "        print(f\"Parsed content saved as: {output_file_path}\")\n",
    "    except Exception as e:\n",
    "        print(f\"Error processing the file: {e}\")\n",
    "else:\n",
    "    print(\"No HTML files found in the directory.\")\n"
   ]
  },
  {
   "cell_type": "code",
   "execution_count": null,
   "id": "a6a4c007",
   "metadata": {},
   "outputs": [],
   "source": [
    "# The following steps are in addition to save the file on huggingface\n",
    "from huggingface_hub import HfApi, HfFolder\n",
    "from huggingface_hub import create_repo\n",
    "# Replace 'your_hf_token' with your Hugging Face API token\n",
    "hf_token = 'hf_..'\n",
    "api = HfApi()\n",
    "#Define the repo name\n",
    "repo_id = ''\n",
    "# Create the repository if it doesn't exist\n",
    "try:\n",
    "    create_repo(repo_id=repo_id, token=hf_token)\n",
    "    print(f\"Repository {repo_id} created successfully.\")\n",
    "except Exception as e:\n",
    "    print(f\"Error creating the repository: {e}\")\n",
    "HfFolder.save_token(hf_token)\n",
    "try:\n",
    "    # Upload the file to Hugging Face\n",
    "    api.upload_file(\n",
    "        path_or_fileobj=output_file_path,\n",
    "        path_in_repo=output_filename,\n",
    "        repo_id=repo_id,\n",
    "        token=hf_token\n",
    "    )\n",
    "    print(f\"File uploaded successfully to Hugging Face repository: {repo_id}\")\n",
    "except Exception as e:\n",
    "    print(f\"Error uploading the file: {e}\")\n"
   ]
  },
  {
   "cell_type": "code",
   "execution_count": 1,
   "id": "27c70094",
   "metadata": {},
   "outputs": [],
   "source": [
    "#please clear output_dir after each run"
   ]
  },
  {
   "cell_type": "code",
   "execution_count": null,
   "id": "d121b490",
   "metadata": {},
   "outputs": [],
   "source": [
    "#Made by Arnav "
   ]
  }
 ],
 "metadata": {
  "kernelspec": {
   "display_name": "Python 3 (ipykernel)",
   "language": "python",
   "name": "python3"
  },
  "language_info": {
   "codemirror_mode": {
    "name": "ipython",
    "version": 3
   },
   "file_extension": ".py",
   "mimetype": "text/x-python",
   "name": "python",
   "nbconvert_exporter": "python",
   "pygments_lexer": "ipython3",
   "version": "3.11.7"
  }
 },
 "nbformat": 4,
 "nbformat_minor": 5
}
